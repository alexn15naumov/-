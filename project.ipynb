{
  "nbformat": 4,
  "nbformat_minor": 0,
  "metadata": {
    "colab": {
      "provenance": [],
      "mount_file_id": "1krFjKrpWMDSqzmp6ChigL7XrTYXfhE9e",
      "authorship_tag": "ABX9TyNZGolsonvEU6MWelPfj6KQ",
      "include_colab_link": true
    },
    "kernelspec": {
      "name": "python3",
      "display_name": "Python 3"
    },
    "language_info": {
      "name": "python"
    }
  },
  "cells": [
    {
      "cell_type": "markdown",
      "metadata": {
        "id": "view-in-github",
        "colab_type": "text"
      },
      "source": [
        "<a href=\"https://colab.research.google.com/github/alexn15naumov/-/blob/main/project.ipynb\" target=\"_parent\"><img src=\"https://colab.research.google.com/assets/colab-badge.svg\" alt=\"Open In Colab\"/></a>"
      ]
    },
    {
      "cell_type": "code",
      "execution_count": null,
      "metadata": {
        "id": "dqGz0nTXy1zC"
      },
      "outputs": [],
      "source": [
        "/content/drive/MyDrive/documents_Sivilio.csv"
      ]
    },
    {
      "cell_type": "code",
      "source": [
        "import pandas as pd\n",
        "import numpy as np"
      ],
      "metadata": {
        "id": "_qGoUrdAz11s"
      },
      "execution_count": null,
      "outputs": []
    },
    {
      "cell_type": "code",
      "source": [
        "df = pd.read_csv('/content/drive/MyDrive/documents_Sivilio.csv')\n",
        "print(df.shape)\n",
        "df.info()"
      ],
      "metadata": {
        "id": "3SgGT8u1ujkO",
        "colab": {
          "base_uri": "https://localhost:8080/"
        },
        "outputId": "7f757408-8a0f-4451-fda2-334b83ed0bce"
      },
      "execution_count": null,
      "outputs": [
        {
          "output_type": "stream",
          "name": "stdout",
          "text": [
            "(4647, 7)\n",
            "<class 'pandas.core.frame.DataFrame'>\n",
            "RangeIndex: 4647 entries, 0 to 4646\n",
            "Data columns (total 7 columns):\n",
            " #   Column  Non-Null Count  Dtype  \n",
            "---  ------  --------------  -----  \n",
            " 0   name    0 non-null      float64\n",
            " 1   email   0 non-null      float64\n",
            " 2   phone   0 non-null      float64\n",
            " 3   name.1  4646 non-null   object \n",
            " 4   skill   3767 non-null   object \n",
            " 5   major   4419 non-null   object \n",
            " 6   file    4647 non-null   object \n",
            "dtypes: float64(3), object(4)\n",
            "memory usage: 254.3+ KB\n"
          ]
        }
      ]
    },
    {
      "cell_type": "code",
      "source": [
        "df.tail(10)"
      ],
      "metadata": {
        "colab": {
          "base_uri": "https://localhost:8080/",
          "height": 363
        },
        "id": "Hqu0GEiK0ISb",
        "outputId": "634b034f-9ee6-46d4-fbc0-9d00b9d60f9c"
      },
      "execution_count": null,
      "outputs": [
        {
          "output_type": "execute_result",
          "data": {
            "text/plain": [
              "      name  email  phone  name.1       skill                  major  \\\n",
              "4637   NaN    NaN    NaN    Lead       React           Nodejs,React   \n",
              "4638   NaN    NaN    NaN  Senior   Go/Golang       python,Go/Golang   \n",
              "4639   NaN    NaN    NaN    Lead      python                 python   \n",
              "4640   NaN    NaN    NaN    Lead      python                 python   \n",
              "4641   NaN    NaN    NaN  Senior      python                 python   \n",
              "4642   NaN    NaN    NaN    Lead      python                 python   \n",
              "4643   NaN    NaN    NaN  Middle   Go/Golang              Go/Golang   \n",
              "4644   NaN    NaN    NaN    Lead  Javascript       Javascript,React   \n",
              "4645   NaN    NaN    NaN    Lead  Javascript           Nodejs,React   \n",
              "4646   NaN    NaN    NaN  Middle        Java  Java,Spring Framework   \n",
              "\n",
              "                                                   file  \n",
              "4637  https://admin.sivilio.by/api/core/files/downlo...  \n",
              "4638  https://admin.sivilio.by/api/core/files/downlo...  \n",
              "4639  https://admin.sivilio.by/api/core/files/downlo...  \n",
              "4640  https://admin.sivilio.by/api/core/files/downlo...  \n",
              "4641  https://admin.sivilio.by/api/core/files/downlo...  \n",
              "4642  https://admin.sivilio.by/api/core/files/downlo...  \n",
              "4643  https://admin.sivilio.by/api/core/files/downlo...  \n",
              "4644  https://admin.sivilio.by/api/core/files/downlo...  \n",
              "4645  https://admin.sivilio.by/api/core/files/downlo...  \n",
              "4646  https://admin.sivilio.by/api/core/files/downlo...  "
            ],
            "text/html": [
              "\n",
              "  <div id=\"df-8b28cf39-840c-4009-9cc9-433ccc63ffd5\" class=\"colab-df-container\">\n",
              "    <div>\n",
              "<style scoped>\n",
              "    .dataframe tbody tr th:only-of-type {\n",
              "        vertical-align: middle;\n",
              "    }\n",
              "\n",
              "    .dataframe tbody tr th {\n",
              "        vertical-align: top;\n",
              "    }\n",
              "\n",
              "    .dataframe thead th {\n",
              "        text-align: right;\n",
              "    }\n",
              "</style>\n",
              "<table border=\"1\" class=\"dataframe\">\n",
              "  <thead>\n",
              "    <tr style=\"text-align: right;\">\n",
              "      <th></th>\n",
              "      <th>name</th>\n",
              "      <th>email</th>\n",
              "      <th>phone</th>\n",
              "      <th>name.1</th>\n",
              "      <th>skill</th>\n",
              "      <th>major</th>\n",
              "      <th>file</th>\n",
              "    </tr>\n",
              "  </thead>\n",
              "  <tbody>\n",
              "    <tr>\n",
              "      <th>4637</th>\n",
              "      <td>NaN</td>\n",
              "      <td>NaN</td>\n",
              "      <td>NaN</td>\n",
              "      <td>Lead</td>\n",
              "      <td>React</td>\n",
              "      <td>Nodejs,React</td>\n",
              "      <td>https://admin.sivilio.by/api/core/files/downlo...</td>\n",
              "    </tr>\n",
              "    <tr>\n",
              "      <th>4638</th>\n",
              "      <td>NaN</td>\n",
              "      <td>NaN</td>\n",
              "      <td>NaN</td>\n",
              "      <td>Senior</td>\n",
              "      <td>Go/Golang</td>\n",
              "      <td>python,Go/Golang</td>\n",
              "      <td>https://admin.sivilio.by/api/core/files/downlo...</td>\n",
              "    </tr>\n",
              "    <tr>\n",
              "      <th>4639</th>\n",
              "      <td>NaN</td>\n",
              "      <td>NaN</td>\n",
              "      <td>NaN</td>\n",
              "      <td>Lead</td>\n",
              "      <td>python</td>\n",
              "      <td>python</td>\n",
              "      <td>https://admin.sivilio.by/api/core/files/downlo...</td>\n",
              "    </tr>\n",
              "    <tr>\n",
              "      <th>4640</th>\n",
              "      <td>NaN</td>\n",
              "      <td>NaN</td>\n",
              "      <td>NaN</td>\n",
              "      <td>Lead</td>\n",
              "      <td>python</td>\n",
              "      <td>python</td>\n",
              "      <td>https://admin.sivilio.by/api/core/files/downlo...</td>\n",
              "    </tr>\n",
              "    <tr>\n",
              "      <th>4641</th>\n",
              "      <td>NaN</td>\n",
              "      <td>NaN</td>\n",
              "      <td>NaN</td>\n",
              "      <td>Senior</td>\n",
              "      <td>python</td>\n",
              "      <td>python</td>\n",
              "      <td>https://admin.sivilio.by/api/core/files/downlo...</td>\n",
              "    </tr>\n",
              "    <tr>\n",
              "      <th>4642</th>\n",
              "      <td>NaN</td>\n",
              "      <td>NaN</td>\n",
              "      <td>NaN</td>\n",
              "      <td>Lead</td>\n",
              "      <td>python</td>\n",
              "      <td>python</td>\n",
              "      <td>https://admin.sivilio.by/api/core/files/downlo...</td>\n",
              "    </tr>\n",
              "    <tr>\n",
              "      <th>4643</th>\n",
              "      <td>NaN</td>\n",
              "      <td>NaN</td>\n",
              "      <td>NaN</td>\n",
              "      <td>Middle</td>\n",
              "      <td>Go/Golang</td>\n",
              "      <td>Go/Golang</td>\n",
              "      <td>https://admin.sivilio.by/api/core/files/downlo...</td>\n",
              "    </tr>\n",
              "    <tr>\n",
              "      <th>4644</th>\n",
              "      <td>NaN</td>\n",
              "      <td>NaN</td>\n",
              "      <td>NaN</td>\n",
              "      <td>Lead</td>\n",
              "      <td>Javascript</td>\n",
              "      <td>Javascript,React</td>\n",
              "      <td>https://admin.sivilio.by/api/core/files/downlo...</td>\n",
              "    </tr>\n",
              "    <tr>\n",
              "      <th>4645</th>\n",
              "      <td>NaN</td>\n",
              "      <td>NaN</td>\n",
              "      <td>NaN</td>\n",
              "      <td>Lead</td>\n",
              "      <td>Javascript</td>\n",
              "      <td>Nodejs,React</td>\n",
              "      <td>https://admin.sivilio.by/api/core/files/downlo...</td>\n",
              "    </tr>\n",
              "    <tr>\n",
              "      <th>4646</th>\n",
              "      <td>NaN</td>\n",
              "      <td>NaN</td>\n",
              "      <td>NaN</td>\n",
              "      <td>Middle</td>\n",
              "      <td>Java</td>\n",
              "      <td>Java,Spring Framework</td>\n",
              "      <td>https://admin.sivilio.by/api/core/files/downlo...</td>\n",
              "    </tr>\n",
              "  </tbody>\n",
              "</table>\n",
              "</div>\n",
              "    <div class=\"colab-df-buttons\">\n",
              "\n",
              "  <div class=\"colab-df-container\">\n",
              "    <button class=\"colab-df-convert\" onclick=\"convertToInteractive('df-8b28cf39-840c-4009-9cc9-433ccc63ffd5')\"\n",
              "            title=\"Convert this dataframe to an interactive table.\"\n",
              "            style=\"display:none;\">\n",
              "\n",
              "  <svg xmlns=\"http://www.w3.org/2000/svg\" height=\"24px\" viewBox=\"0 -960 960 960\">\n",
              "    <path d=\"M120-120v-720h720v720H120Zm60-500h600v-160H180v160Zm220 220h160v-160H400v160Zm0 220h160v-160H400v160ZM180-400h160v-160H180v160Zm440 0h160v-160H620v160ZM180-180h160v-160H180v160Zm440 0h160v-160H620v160Z\"/>\n",
              "  </svg>\n",
              "    </button>\n",
              "\n",
              "  <style>\n",
              "    .colab-df-container {\n",
              "      display:flex;\n",
              "      gap: 12px;\n",
              "    }\n",
              "\n",
              "    .colab-df-convert {\n",
              "      background-color: #E8F0FE;\n",
              "      border: none;\n",
              "      border-radius: 50%;\n",
              "      cursor: pointer;\n",
              "      display: none;\n",
              "      fill: #1967D2;\n",
              "      height: 32px;\n",
              "      padding: 0 0 0 0;\n",
              "      width: 32px;\n",
              "    }\n",
              "\n",
              "    .colab-df-convert:hover {\n",
              "      background-color: #E2EBFA;\n",
              "      box-shadow: 0px 1px 2px rgba(60, 64, 67, 0.3), 0px 1px 3px 1px rgba(60, 64, 67, 0.15);\n",
              "      fill: #174EA6;\n",
              "    }\n",
              "\n",
              "    .colab-df-buttons div {\n",
              "      margin-bottom: 4px;\n",
              "    }\n",
              "\n",
              "    [theme=dark] .colab-df-convert {\n",
              "      background-color: #3B4455;\n",
              "      fill: #D2E3FC;\n",
              "    }\n",
              "\n",
              "    [theme=dark] .colab-df-convert:hover {\n",
              "      background-color: #434B5C;\n",
              "      box-shadow: 0px 1px 3px 1px rgba(0, 0, 0, 0.15);\n",
              "      filter: drop-shadow(0px 1px 2px rgba(0, 0, 0, 0.3));\n",
              "      fill: #FFFFFF;\n",
              "    }\n",
              "  </style>\n",
              "\n",
              "    <script>\n",
              "      const buttonEl =\n",
              "        document.querySelector('#df-8b28cf39-840c-4009-9cc9-433ccc63ffd5 button.colab-df-convert');\n",
              "      buttonEl.style.display =\n",
              "        google.colab.kernel.accessAllowed ? 'block' : 'none';\n",
              "\n",
              "      async function convertToInteractive(key) {\n",
              "        const element = document.querySelector('#df-8b28cf39-840c-4009-9cc9-433ccc63ffd5');\n",
              "        const dataTable =\n",
              "          await google.colab.kernel.invokeFunction('convertToInteractive',\n",
              "                                                    [key], {});\n",
              "        if (!dataTable) return;\n",
              "\n",
              "        const docLinkHtml = 'Like what you see? Visit the ' +\n",
              "          '<a target=\"_blank\" href=https://colab.research.google.com/notebooks/data_table.ipynb>data table notebook</a>'\n",
              "          + ' to learn more about interactive tables.';\n",
              "        element.innerHTML = '';\n",
              "        dataTable['output_type'] = 'display_data';\n",
              "        await google.colab.output.renderOutput(dataTable, element);\n",
              "        const docLink = document.createElement('div');\n",
              "        docLink.innerHTML = docLinkHtml;\n",
              "        element.appendChild(docLink);\n",
              "      }\n",
              "    </script>\n",
              "  </div>\n",
              "\n",
              "\n",
              "<div id=\"df-abc109eb-1785-4d44-9338-192df2653713\">\n",
              "  <button class=\"colab-df-quickchart\" onclick=\"quickchart('df-abc109eb-1785-4d44-9338-192df2653713')\"\n",
              "            title=\"Suggest charts\"\n",
              "            style=\"display:none;\">\n",
              "\n",
              "<svg xmlns=\"http://www.w3.org/2000/svg\" height=\"24px\"viewBox=\"0 0 24 24\"\n",
              "     width=\"24px\">\n",
              "    <g>\n",
              "        <path d=\"M19 3H5c-1.1 0-2 .9-2 2v14c0 1.1.9 2 2 2h14c1.1 0 2-.9 2-2V5c0-1.1-.9-2-2-2zM9 17H7v-7h2v7zm4 0h-2V7h2v10zm4 0h-2v-4h2v4z\"/>\n",
              "    </g>\n",
              "</svg>\n",
              "  </button>\n",
              "\n",
              "<style>\n",
              "  .colab-df-quickchart {\n",
              "      --bg-color: #E8F0FE;\n",
              "      --fill-color: #1967D2;\n",
              "      --hover-bg-color: #E2EBFA;\n",
              "      --hover-fill-color: #174EA6;\n",
              "      --disabled-fill-color: #AAA;\n",
              "      --disabled-bg-color: #DDD;\n",
              "  }\n",
              "\n",
              "  [theme=dark] .colab-df-quickchart {\n",
              "      --bg-color: #3B4455;\n",
              "      --fill-color: #D2E3FC;\n",
              "      --hover-bg-color: #434B5C;\n",
              "      --hover-fill-color: #FFFFFF;\n",
              "      --disabled-bg-color: #3B4455;\n",
              "      --disabled-fill-color: #666;\n",
              "  }\n",
              "\n",
              "  .colab-df-quickchart {\n",
              "    background-color: var(--bg-color);\n",
              "    border: none;\n",
              "    border-radius: 50%;\n",
              "    cursor: pointer;\n",
              "    display: none;\n",
              "    fill: var(--fill-color);\n",
              "    height: 32px;\n",
              "    padding: 0;\n",
              "    width: 32px;\n",
              "  }\n",
              "\n",
              "  .colab-df-quickchart:hover {\n",
              "    background-color: var(--hover-bg-color);\n",
              "    box-shadow: 0 1px 2px rgba(60, 64, 67, 0.3), 0 1px 3px 1px rgba(60, 64, 67, 0.15);\n",
              "    fill: var(--button-hover-fill-color);\n",
              "  }\n",
              "\n",
              "  .colab-df-quickchart-complete:disabled,\n",
              "  .colab-df-quickchart-complete:disabled:hover {\n",
              "    background-color: var(--disabled-bg-color);\n",
              "    fill: var(--disabled-fill-color);\n",
              "    box-shadow: none;\n",
              "  }\n",
              "\n",
              "  .colab-df-spinner {\n",
              "    border: 2px solid var(--fill-color);\n",
              "    border-color: transparent;\n",
              "    border-bottom-color: var(--fill-color);\n",
              "    animation:\n",
              "      spin 1s steps(1) infinite;\n",
              "  }\n",
              "\n",
              "  @keyframes spin {\n",
              "    0% {\n",
              "      border-color: transparent;\n",
              "      border-bottom-color: var(--fill-color);\n",
              "      border-left-color: var(--fill-color);\n",
              "    }\n",
              "    20% {\n",
              "      border-color: transparent;\n",
              "      border-left-color: var(--fill-color);\n",
              "      border-top-color: var(--fill-color);\n",
              "    }\n",
              "    30% {\n",
              "      border-color: transparent;\n",
              "      border-left-color: var(--fill-color);\n",
              "      border-top-color: var(--fill-color);\n",
              "      border-right-color: var(--fill-color);\n",
              "    }\n",
              "    40% {\n",
              "      border-color: transparent;\n",
              "      border-right-color: var(--fill-color);\n",
              "      border-top-color: var(--fill-color);\n",
              "    }\n",
              "    60% {\n",
              "      border-color: transparent;\n",
              "      border-right-color: var(--fill-color);\n",
              "    }\n",
              "    80% {\n",
              "      border-color: transparent;\n",
              "      border-right-color: var(--fill-color);\n",
              "      border-bottom-color: var(--fill-color);\n",
              "    }\n",
              "    90% {\n",
              "      border-color: transparent;\n",
              "      border-bottom-color: var(--fill-color);\n",
              "    }\n",
              "  }\n",
              "</style>\n",
              "\n",
              "  <script>\n",
              "    async function quickchart(key) {\n",
              "      const quickchartButtonEl =\n",
              "        document.querySelector('#' + key + ' button');\n",
              "      quickchartButtonEl.disabled = true;  // To prevent multiple clicks.\n",
              "      quickchartButtonEl.classList.add('colab-df-spinner');\n",
              "      try {\n",
              "        const charts = await google.colab.kernel.invokeFunction(\n",
              "            'suggestCharts', [key], {});\n",
              "      } catch (error) {\n",
              "        console.error('Error during call to suggestCharts:', error);\n",
              "      }\n",
              "      quickchartButtonEl.classList.remove('colab-df-spinner');\n",
              "      quickchartButtonEl.classList.add('colab-df-quickchart-complete');\n",
              "    }\n",
              "    (() => {\n",
              "      let quickchartButtonEl =\n",
              "        document.querySelector('#df-abc109eb-1785-4d44-9338-192df2653713 button');\n",
              "      quickchartButtonEl.style.display =\n",
              "        google.colab.kernel.accessAllowed ? 'block' : 'none';\n",
              "    })();\n",
              "  </script>\n",
              "</div>\n",
              "    </div>\n",
              "  </div>\n"
            ],
            "application/vnd.google.colaboratory.intrinsic+json": {
              "type": "dataframe",
              "summary": "{\n  \"name\": \"df\",\n  \"rows\": 10,\n  \"fields\": [\n    {\n      \"column\": \"name\",\n      \"properties\": {\n        \"dtype\": \"number\",\n        \"std\": null,\n        \"min\": null,\n        \"max\": null,\n        \"num_unique_values\": 0,\n        \"samples\": [],\n        \"semantic_type\": \"\",\n        \"description\": \"\"\n      }\n    },\n    {\n      \"column\": \"email\",\n      \"properties\": {\n        \"dtype\": \"number\",\n        \"std\": null,\n        \"min\": null,\n        \"max\": null,\n        \"num_unique_values\": 0,\n        \"samples\": [],\n        \"semantic_type\": \"\",\n        \"description\": \"\"\n      }\n    },\n    {\n      \"column\": \"phone\",\n      \"properties\": {\n        \"dtype\": \"number\",\n        \"std\": null,\n        \"min\": null,\n        \"max\": null,\n        \"num_unique_values\": 0,\n        \"samples\": [],\n        \"semantic_type\": \"\",\n        \"description\": \"\"\n      }\n    },\n    {\n      \"column\": \"name.1\",\n      \"properties\": {\n        \"dtype\": \"category\",\n        \"num_unique_values\": 3,\n        \"samples\": [],\n        \"semantic_type\": \"\",\n        \"description\": \"\"\n      }\n    },\n    {\n      \"column\": \"skill\",\n      \"properties\": {\n        \"dtype\": \"string\",\n        \"num_unique_values\": 5,\n        \"samples\": [],\n        \"semantic_type\": \"\",\n        \"description\": \"\"\n      }\n    },\n    {\n      \"column\": \"major\",\n      \"properties\": {\n        \"dtype\": \"string\",\n        \"num_unique_values\": 6,\n        \"samples\": [],\n        \"semantic_type\": \"\",\n        \"description\": \"\"\n      }\n    },\n    {\n      \"column\": \"file\",\n      \"properties\": {\n        \"dtype\": \"string\",\n        \"num_unique_values\": 10,\n        \"samples\": [],\n        \"semantic_type\": \"\",\n        \"description\": \"\"\n      }\n    }\n  ]\n}"
            }
          },
          "metadata": {},
          "execution_count": 5
        }
      ]
    },
    {
      "cell_type": "code",
      "source": [],
      "metadata": {
        "id": "HG48HkCz0hDM"
      },
      "execution_count": null,
      "outputs": []
    },
    {
      "cell_type": "code",
      "source": [
        "df = df[['name.1', 'skill', 'major']]\n",
        "\n",
        "\n",
        "df.tail()"
      ],
      "metadata": {
        "colab": {
          "base_uri": "https://localhost:8080/",
          "height": 206
        },
        "id": "05L4VPF50Ff4",
        "outputId": "96e7dfc9-8549-4822-81ad-6c7644317106"
      },
      "execution_count": null,
      "outputs": [
        {
          "output_type": "execute_result",
          "data": {
            "text/plain": [
              "      name.1       skill                  major\n",
              "4642    Lead      python                 python\n",
              "4643  Middle   Go/Golang              Go/Golang\n",
              "4644    Lead  Javascript       Javascript,React\n",
              "4645    Lead  Javascript           Nodejs,React\n",
              "4646  Middle        Java  Java,Spring Framework"
            ],
            "text/html": [
              "\n",
              "  <div id=\"df-b8f2d8e3-dcd1-43c7-9d23-9ce5adae247c\" class=\"colab-df-container\">\n",
              "    <div>\n",
              "<style scoped>\n",
              "    .dataframe tbody tr th:only-of-type {\n",
              "        vertical-align: middle;\n",
              "    }\n",
              "\n",
              "    .dataframe tbody tr th {\n",
              "        vertical-align: top;\n",
              "    }\n",
              "\n",
              "    .dataframe thead th {\n",
              "        text-align: right;\n",
              "    }\n",
              "</style>\n",
              "<table border=\"1\" class=\"dataframe\">\n",
              "  <thead>\n",
              "    <tr style=\"text-align: right;\">\n",
              "      <th></th>\n",
              "      <th>name.1</th>\n",
              "      <th>skill</th>\n",
              "      <th>major</th>\n",
              "    </tr>\n",
              "  </thead>\n",
              "  <tbody>\n",
              "    <tr>\n",
              "      <th>4642</th>\n",
              "      <td>Lead</td>\n",
              "      <td>python</td>\n",
              "      <td>python</td>\n",
              "    </tr>\n",
              "    <tr>\n",
              "      <th>4643</th>\n",
              "      <td>Middle</td>\n",
              "      <td>Go/Golang</td>\n",
              "      <td>Go/Golang</td>\n",
              "    </tr>\n",
              "    <tr>\n",
              "      <th>4644</th>\n",
              "      <td>Lead</td>\n",
              "      <td>Javascript</td>\n",
              "      <td>Javascript,React</td>\n",
              "    </tr>\n",
              "    <tr>\n",
              "      <th>4645</th>\n",
              "      <td>Lead</td>\n",
              "      <td>Javascript</td>\n",
              "      <td>Nodejs,React</td>\n",
              "    </tr>\n",
              "    <tr>\n",
              "      <th>4646</th>\n",
              "      <td>Middle</td>\n",
              "      <td>Java</td>\n",
              "      <td>Java,Spring Framework</td>\n",
              "    </tr>\n",
              "  </tbody>\n",
              "</table>\n",
              "</div>\n",
              "    <div class=\"colab-df-buttons\">\n",
              "\n",
              "  <div class=\"colab-df-container\">\n",
              "    <button class=\"colab-df-convert\" onclick=\"convertToInteractive('df-b8f2d8e3-dcd1-43c7-9d23-9ce5adae247c')\"\n",
              "            title=\"Convert this dataframe to an interactive table.\"\n",
              "            style=\"display:none;\">\n",
              "\n",
              "  <svg xmlns=\"http://www.w3.org/2000/svg\" height=\"24px\" viewBox=\"0 -960 960 960\">\n",
              "    <path d=\"M120-120v-720h720v720H120Zm60-500h600v-160H180v160Zm220 220h160v-160H400v160Zm0 220h160v-160H400v160ZM180-400h160v-160H180v160Zm440 0h160v-160H620v160ZM180-180h160v-160H180v160Zm440 0h160v-160H620v160Z\"/>\n",
              "  </svg>\n",
              "    </button>\n",
              "\n",
              "  <style>\n",
              "    .colab-df-container {\n",
              "      display:flex;\n",
              "      gap: 12px;\n",
              "    }\n",
              "\n",
              "    .colab-df-convert {\n",
              "      background-color: #E8F0FE;\n",
              "      border: none;\n",
              "      border-radius: 50%;\n",
              "      cursor: pointer;\n",
              "      display: none;\n",
              "      fill: #1967D2;\n",
              "      height: 32px;\n",
              "      padding: 0 0 0 0;\n",
              "      width: 32px;\n",
              "    }\n",
              "\n",
              "    .colab-df-convert:hover {\n",
              "      background-color: #E2EBFA;\n",
              "      box-shadow: 0px 1px 2px rgba(60, 64, 67, 0.3), 0px 1px 3px 1px rgba(60, 64, 67, 0.15);\n",
              "      fill: #174EA6;\n",
              "    }\n",
              "\n",
              "    .colab-df-buttons div {\n",
              "      margin-bottom: 4px;\n",
              "    }\n",
              "\n",
              "    [theme=dark] .colab-df-convert {\n",
              "      background-color: #3B4455;\n",
              "      fill: #D2E3FC;\n",
              "    }\n",
              "\n",
              "    [theme=dark] .colab-df-convert:hover {\n",
              "      background-color: #434B5C;\n",
              "      box-shadow: 0px 1px 3px 1px rgba(0, 0, 0, 0.15);\n",
              "      filter: drop-shadow(0px 1px 2px rgba(0, 0, 0, 0.3));\n",
              "      fill: #FFFFFF;\n",
              "    }\n",
              "  </style>\n",
              "\n",
              "    <script>\n",
              "      const buttonEl =\n",
              "        document.querySelector('#df-b8f2d8e3-dcd1-43c7-9d23-9ce5adae247c button.colab-df-convert');\n",
              "      buttonEl.style.display =\n",
              "        google.colab.kernel.accessAllowed ? 'block' : 'none';\n",
              "\n",
              "      async function convertToInteractive(key) {\n",
              "        const element = document.querySelector('#df-b8f2d8e3-dcd1-43c7-9d23-9ce5adae247c');\n",
              "        const dataTable =\n",
              "          await google.colab.kernel.invokeFunction('convertToInteractive',\n",
              "                                                    [key], {});\n",
              "        if (!dataTable) return;\n",
              "\n",
              "        const docLinkHtml = 'Like what you see? Visit the ' +\n",
              "          '<a target=\"_blank\" href=https://colab.research.google.com/notebooks/data_table.ipynb>data table notebook</a>'\n",
              "          + ' to learn more about interactive tables.';\n",
              "        element.innerHTML = '';\n",
              "        dataTable['output_type'] = 'display_data';\n",
              "        await google.colab.output.renderOutput(dataTable, element);\n",
              "        const docLink = document.createElement('div');\n",
              "        docLink.innerHTML = docLinkHtml;\n",
              "        element.appendChild(docLink);\n",
              "      }\n",
              "    </script>\n",
              "  </div>\n",
              "\n",
              "\n",
              "<div id=\"df-8ddaf056-b222-49b2-b3e0-e045b25dbb92\">\n",
              "  <button class=\"colab-df-quickchart\" onclick=\"quickchart('df-8ddaf056-b222-49b2-b3e0-e045b25dbb92')\"\n",
              "            title=\"Suggest charts\"\n",
              "            style=\"display:none;\">\n",
              "\n",
              "<svg xmlns=\"http://www.w3.org/2000/svg\" height=\"24px\"viewBox=\"0 0 24 24\"\n",
              "     width=\"24px\">\n",
              "    <g>\n",
              "        <path d=\"M19 3H5c-1.1 0-2 .9-2 2v14c0 1.1.9 2 2 2h14c1.1 0 2-.9 2-2V5c0-1.1-.9-2-2-2zM9 17H7v-7h2v7zm4 0h-2V7h2v10zm4 0h-2v-4h2v4z\"/>\n",
              "    </g>\n",
              "</svg>\n",
              "  </button>\n",
              "\n",
              "<style>\n",
              "  .colab-df-quickchart {\n",
              "      --bg-color: #E8F0FE;\n",
              "      --fill-color: #1967D2;\n",
              "      --hover-bg-color: #E2EBFA;\n",
              "      --hover-fill-color: #174EA6;\n",
              "      --disabled-fill-color: #AAA;\n",
              "      --disabled-bg-color: #DDD;\n",
              "  }\n",
              "\n",
              "  [theme=dark] .colab-df-quickchart {\n",
              "      --bg-color: #3B4455;\n",
              "      --fill-color: #D2E3FC;\n",
              "      --hover-bg-color: #434B5C;\n",
              "      --hover-fill-color: #FFFFFF;\n",
              "      --disabled-bg-color: #3B4455;\n",
              "      --disabled-fill-color: #666;\n",
              "  }\n",
              "\n",
              "  .colab-df-quickchart {\n",
              "    background-color: var(--bg-color);\n",
              "    border: none;\n",
              "    border-radius: 50%;\n",
              "    cursor: pointer;\n",
              "    display: none;\n",
              "    fill: var(--fill-color);\n",
              "    height: 32px;\n",
              "    padding: 0;\n",
              "    width: 32px;\n",
              "  }\n",
              "\n",
              "  .colab-df-quickchart:hover {\n",
              "    background-color: var(--hover-bg-color);\n",
              "    box-shadow: 0 1px 2px rgba(60, 64, 67, 0.3), 0 1px 3px 1px rgba(60, 64, 67, 0.15);\n",
              "    fill: var(--button-hover-fill-color);\n",
              "  }\n",
              "\n",
              "  .colab-df-quickchart-complete:disabled,\n",
              "  .colab-df-quickchart-complete:disabled:hover {\n",
              "    background-color: var(--disabled-bg-color);\n",
              "    fill: var(--disabled-fill-color);\n",
              "    box-shadow: none;\n",
              "  }\n",
              "\n",
              "  .colab-df-spinner {\n",
              "    border: 2px solid var(--fill-color);\n",
              "    border-color: transparent;\n",
              "    border-bottom-color: var(--fill-color);\n",
              "    animation:\n",
              "      spin 1s steps(1) infinite;\n",
              "  }\n",
              "\n",
              "  @keyframes spin {\n",
              "    0% {\n",
              "      border-color: transparent;\n",
              "      border-bottom-color: var(--fill-color);\n",
              "      border-left-color: var(--fill-color);\n",
              "    }\n",
              "    20% {\n",
              "      border-color: transparent;\n",
              "      border-left-color: var(--fill-color);\n",
              "      border-top-color: var(--fill-color);\n",
              "    }\n",
              "    30% {\n",
              "      border-color: transparent;\n",
              "      border-left-color: var(--fill-color);\n",
              "      border-top-color: var(--fill-color);\n",
              "      border-right-color: var(--fill-color);\n",
              "    }\n",
              "    40% {\n",
              "      border-color: transparent;\n",
              "      border-right-color: var(--fill-color);\n",
              "      border-top-color: var(--fill-color);\n",
              "    }\n",
              "    60% {\n",
              "      border-color: transparent;\n",
              "      border-right-color: var(--fill-color);\n",
              "    }\n",
              "    80% {\n",
              "      border-color: transparent;\n",
              "      border-right-color: var(--fill-color);\n",
              "      border-bottom-color: var(--fill-color);\n",
              "    }\n",
              "    90% {\n",
              "      border-color: transparent;\n",
              "      border-bottom-color: var(--fill-color);\n",
              "    }\n",
              "  }\n",
              "</style>\n",
              "\n",
              "  <script>\n",
              "    async function quickchart(key) {\n",
              "      const quickchartButtonEl =\n",
              "        document.querySelector('#' + key + ' button');\n",
              "      quickchartButtonEl.disabled = true;  // To prevent multiple clicks.\n",
              "      quickchartButtonEl.classList.add('colab-df-spinner');\n",
              "      try {\n",
              "        const charts = await google.colab.kernel.invokeFunction(\n",
              "            'suggestCharts', [key], {});\n",
              "      } catch (error) {\n",
              "        console.error('Error during call to suggestCharts:', error);\n",
              "      }\n",
              "      quickchartButtonEl.classList.remove('colab-df-spinner');\n",
              "      quickchartButtonEl.classList.add('colab-df-quickchart-complete');\n",
              "    }\n",
              "    (() => {\n",
              "      let quickchartButtonEl =\n",
              "        document.querySelector('#df-8ddaf056-b222-49b2-b3e0-e045b25dbb92 button');\n",
              "      quickchartButtonEl.style.display =\n",
              "        google.colab.kernel.accessAllowed ? 'block' : 'none';\n",
              "    })();\n",
              "  </script>\n",
              "</div>\n",
              "    </div>\n",
              "  </div>\n"
            ],
            "application/vnd.google.colaboratory.intrinsic+json": {
              "type": "dataframe",
              "summary": "{\n  \"name\": \"df\",\n  \"rows\": 5,\n  \"fields\": [\n    {\n      \"column\": \"name.1\",\n      \"properties\": {\n        \"dtype\": \"category\",\n        \"num_unique_values\": 2,\n        \"samples\": [\n          \"Middle\",\n          \"Lead\"\n        ],\n        \"semantic_type\": \"\",\n        \"description\": \"\"\n      }\n    },\n    {\n      \"column\": \"skill\",\n      \"properties\": {\n        \"dtype\": \"string\",\n        \"num_unique_values\": 4,\n        \"samples\": [\n          \"Go/Golang\",\n          \"Java\"\n        ],\n        \"semantic_type\": \"\",\n        \"description\": \"\"\n      }\n    },\n    {\n      \"column\": \"major\",\n      \"properties\": {\n        \"dtype\": \"string\",\n        \"num_unique_values\": 5,\n        \"samples\": [\n          \"Go/Golang\",\n          \"Java,Spring Framework\"\n        ],\n        \"semantic_type\": \"\",\n        \"description\": \"\"\n      }\n    }\n  ]\n}"
            }
          },
          "metadata": {},
          "execution_count": 7
        }
      ]
    },
    {
      "cell_type": "code",
      "source": [
        "df['name.1'].unique()"
      ],
      "metadata": {
        "colab": {
          "base_uri": "https://localhost:8080/"
        },
        "id": "NepZWFAW09Fa",
        "outputId": "46b6a202-f66d-4b1b-c310-44727df68f5b"
      },
      "execution_count": null,
      "outputs": [
        {
          "output_type": "execute_result",
          "data": {
            "text/plain": [
              "array(['Middle', 'Senior', 'Lead', nan, 'Head of', 'Architector',\n",
              "       'Junior', 'Не указан'], dtype=object)"
            ]
          },
          "metadata": {},
          "execution_count": 14
        }
      ]
    },
    {
      "cell_type": "code",
      "source": [
        "# Подсчет количества строк с пропущенными значениями в столбце 'skill'\n",
        "missing_skills_count = df['skill'].isnull().sum()\n",
        "\n",
        "print(f\"Количество строк с пропущенными значениями в столбце 'skill': {missing_skills_count}\")\n"
      ],
      "metadata": {
        "colab": {
          "base_uri": "https://localhost:8080/"
        },
        "id": "gJ7r7FeG5p4a",
        "outputId": "c483e847-2246-4c2f-fe8e-1a8c32fc14c2"
      },
      "execution_count": null,
      "outputs": [
        {
          "output_type": "stream",
          "name": "stdout",
          "text": [
            "Количество строк с пропущенными значениями в столбце 'skill': 880\n"
          ]
        }
      ]
    },
    {
      "cell_type": "code",
      "source": [
        "df.rename(columns={'name.1': 'name'}, inplace=True)"
      ],
      "metadata": {
        "id": "KSTGY-8f55Oe"
      },
      "execution_count": null,
      "outputs": []
    },
    {
      "cell_type": "code",
      "source": [],
      "metadata": {
        "id": "-CaKQ00a6Gn7"
      },
      "execution_count": null,
      "outputs": []
    },
    {
      "cell_type": "code",
      "source": [
        "# Подсчет количества строк с пропущенными значениями в столбце 'skill'\n",
        "missing_names_count = df['name'].isnull().sum()\n",
        "\n",
        "print(f\"Количество строк с пропущенными значениями в столбце 'name': {missing_names_count}\")\n"
      ],
      "metadata": {
        "colab": {
          "base_uri": "https://localhost:8080/"
        },
        "outputId": "09d37f61-7e1a-46a3-d539-16c96f41feaf",
        "id": "2ijGhshh6HQN"
      },
      "execution_count": null,
      "outputs": [
        {
          "output_type": "stream",
          "name": "stdout",
          "text": [
            "Количество строк с пропущенными значениями в столбце 'name': 1\n"
          ]
        }
      ]
    },
    {
      "cell_type": "code",
      "source": [
        "\n",
        "\n",
        "# Подсчет количества NaN в столбце 'name'\n",
        "nan_count = df['name'].isnull().sum()\n",
        "\n",
        "# Подсчет количества строк со значением 'Не указано' в столбце 'name'\n",
        "not_specified_count = df['name'].eq('Не указано').sum()\n",
        "\n",
        "print(f\"Количество строк с NaN в столбце 'name': {nan_count}\")\n",
        "print(f\"Количество строк с 'Не указано' в столбце 'name': {not_specified_count}\")\n"
      ],
      "metadata": {
        "colab": {
          "base_uri": "https://localhost:8080/"
        },
        "id": "eon_I2py6Gr_",
        "outputId": "d42baf3f-9127-4d53-eadf-732199c5686f"
      },
      "execution_count": null,
      "outputs": [
        {
          "output_type": "stream",
          "name": "stdout",
          "text": [
            "Количество строк с NaN в столбце 'name': 1\n",
            "Количество строк с 'Не указано' в столбце 'name': 0\n"
          ]
        }
      ]
    },
    {
      "cell_type": "code",
      "source": [
        "# Вывод строк, где в столбце 'name' присутствуют NaN\n",
        "rows_with_nan = df[df['name'].isnull()]\n",
        "\n",
        "# Вывод строк, где в столбце 'name' указано 'Не указано'\n",
        "rows_with_not_specified = df[df['name'] == 'Не указано']\n",
        "\n",
        "print(\"Строки с NaN в столбце 'name':\")\n",
        "print(rows_with_nan)\n",
        "\n",
        "print(\"\\nСтроки с 'Не указано' в столбце 'name':\")\n",
        "print(rows_with_not_specified)\n"
      ],
      "metadata": {
        "colab": {
          "base_uri": "https://localhost:8080/"
        },
        "id": "KUA9gIMC7cMJ",
        "outputId": "d7882d75-8776-4d25-bab6-0f989bcb1722"
      },
      "execution_count": null,
      "outputs": [
        {
          "output_type": "stream",
          "name": "stdout",
          "text": [
            "Строки с NaN в столбце 'name':\n",
            "   name skill    major\n",
            "22  NaN   NaN  Magento\n",
            "\n",
            "Строки с 'Не указано' в столбце 'name':\n",
            "Empty DataFrame\n",
            "Columns: [name, skill, major]\n",
            "Index: []\n"
          ]
        }
      ]
    },
    {
      "cell_type": "code",
      "source": [
        "# Создание нового столбца для классификации\n",
        "df['name_status'] = df['name'].apply(lambda x: 'NaN' if pd.isnull(x) else ('Не указано' if x == 'Не указано' else 'Заполнено'))\n",
        "\n",
        "# Группировка данных по новому столбцу и подсчет количества в каждой группе\n",
        "grouped_data = df.groupby('name_status').size()\n",
        "\n",
        "print(\"Группировка по статусу столбца 'name':\")\n",
        "print(grouped_data)\n"
      ],
      "metadata": {
        "colab": {
          "base_uri": "https://localhost:8080/"
        },
        "id": "76cCMc1m7zCn",
        "outputId": "41e9232c-334d-4274-e4fa-e26a4784ff29"
      },
      "execution_count": null,
      "outputs": [
        {
          "output_type": "stream",
          "name": "stdout",
          "text": [
            "Группировка по статусу столбца 'name':\n",
            "name_status\n",
            "NaN             1\n",
            "Заполнено    4646\n",
            "dtype: int64\n"
          ]
        }
      ]
    },
    {
      "cell_type": "code",
      "source": [
        "# Подсчет количества NaN\n",
        "nan_count = df['name'].isnull().sum()\n",
        "\n",
        "# Подсчет количества строк со значением 'Не указан'\n",
        "not_specified_count = df['name'].eq('Не указан').sum()\n",
        "\n",
        "print(f\"Количество строк с NaN в столбце 'name': {nan_count}\")\n",
        "print(f\"Количество строк с 'Не указан' в столбце 'name': {not_specified_count}\")\n"
      ],
      "metadata": {
        "colab": {
          "base_uri": "https://localhost:8080/"
        },
        "id": "gaWFS7GC8egI",
        "outputId": "528459ca-5d66-4144-baf6-9fce471a0bc4"
      },
      "execution_count": null,
      "outputs": [
        {
          "output_type": "stream",
          "name": "stdout",
          "text": [
            "Количество строк с NaN в столбце 'name': 1\n",
            "Количество строк с 'Не указан' в столбце 'name': 1\n"
          ]
        }
      ]
    },
    {
      "cell_type": "code",
      "source": [
        "# Удаление строки с NaN, если это решение принято\n",
        "df.dropna(subset=['name'], inplace=True)\n",
        "\n",
        "# Замена 'Не указан' на наиболее часто встречающееся значение\n",
        "# Сначала найдем наиболее часто встречающееся значение (без учета 'Не указан' и NaN)\n",
        "most_frequent = df[df['name'] != 'Не указан']['name'].mode()[0]\n",
        "\n",
        "# Замена 'Не указан' на наиболее часто встречающееся значение\n",
        "df['name'].replace('Не указан', most_frequent, inplace=True)\n",
        "\n",
        "# Проверка изменений\n",
        "print(df['name'].value_counts())\n"
      ],
      "metadata": {
        "colab": {
          "base_uri": "https://localhost:8080/"
        },
        "id": "dv5gaY429BRG",
        "outputId": "a916e528-ce31-49ea-fc3c-3869df3ee6f7"
      },
      "execution_count": null,
      "outputs": [
        {
          "output_type": "stream",
          "name": "stdout",
          "text": [
            "name\n",
            "Senior         1992\n",
            "Middle         1872\n",
            "Junior          377\n",
            "Lead            326\n",
            "Head of          66\n",
            "Architector      13\n",
            "Name: count, dtype: int64\n"
          ]
        }
      ]
    },
    {
      "cell_type": "code",
      "source": [
        "df_rec = pd.read_csv('/content/drive/MyDrive/records - records.csv')\n",
        "print(df_rec.shape)\n",
        "df_rec.info()"
      ],
      "metadata": {
        "colab": {
          "base_uri": "https://localhost:8080/"
        },
        "id": "UX8SosfQVDTk",
        "outputId": "0bc1f33e-0ee1-43ae-afec-159380f65d5d"
      },
      "execution_count": null,
      "outputs": [
        {
          "output_type": "stream",
          "name": "stdout",
          "text": [
            "(436, 3)\n",
            "<class 'pandas.core.frame.DataFrame'>\n",
            "RangeIndex: 436 entries, 0 to 435\n",
            "Data columns (total 3 columns):\n",
            " #   Column  Non-Null Count  Dtype \n",
            "---  ------  --------------  ----- \n",
            " 0   name    436 non-null    object\n",
            " 1   name.1  436 non-null    object\n",
            " 2   name.2  436 non-null    object\n",
            "dtypes: object(3)\n",
            "memory usage: 10.3+ KB\n"
          ]
        }
      ]
    },
    {
      "cell_type": "code",
      "source": [
        "df_rec.head(5)"
      ],
      "metadata": {
        "colab": {
          "base_uri": "https://localhost:8080/",
          "height": 206
        },
        "id": "jgVI-Ws0XGiP",
        "outputId": "5c0d294b-5b89-4428-f78e-8063cf261b30"
      },
      "execution_count": null,
      "outputs": [
        {
          "output_type": "execute_result",
          "data": {
            "text/plain": [
              "                       name           name.1            name.2\n",
              "0            С++ Think-Cell     Русович Юрий  Тестовое задание\n",
              "1    React Native Developer  Лилия Кушнарева  Тестовое задание\n",
              "2  Back End Developer - RND    Фабер Джулиан             Пауза\n",
              "3     marketing+smm+content     Столяр Дарья   Отмена вакансии\n",
              "4   С/С++ (CATIA) developer  Фокин Владислав   Отмена вакансии"
            ],
            "text/html": [
              "\n",
              "  <div id=\"df-2a2918cb-6988-4abc-b5c8-126efa82c4ca\" class=\"colab-df-container\">\n",
              "    <div>\n",
              "<style scoped>\n",
              "    .dataframe tbody tr th:only-of-type {\n",
              "        vertical-align: middle;\n",
              "    }\n",
              "\n",
              "    .dataframe tbody tr th {\n",
              "        vertical-align: top;\n",
              "    }\n",
              "\n",
              "    .dataframe thead th {\n",
              "        text-align: right;\n",
              "    }\n",
              "</style>\n",
              "<table border=\"1\" class=\"dataframe\">\n",
              "  <thead>\n",
              "    <tr style=\"text-align: right;\">\n",
              "      <th></th>\n",
              "      <th>name</th>\n",
              "      <th>name.1</th>\n",
              "      <th>name.2</th>\n",
              "    </tr>\n",
              "  </thead>\n",
              "  <tbody>\n",
              "    <tr>\n",
              "      <th>0</th>\n",
              "      <td>С++ Think-Cell</td>\n",
              "      <td>Русович Юрий</td>\n",
              "      <td>Тестовое задание</td>\n",
              "    </tr>\n",
              "    <tr>\n",
              "      <th>1</th>\n",
              "      <td>React Native Developer</td>\n",
              "      <td>Лилия Кушнарева</td>\n",
              "      <td>Тестовое задание</td>\n",
              "    </tr>\n",
              "    <tr>\n",
              "      <th>2</th>\n",
              "      <td>Back End Developer - RND</td>\n",
              "      <td>Фабер Джулиан</td>\n",
              "      <td>Пауза</td>\n",
              "    </tr>\n",
              "    <tr>\n",
              "      <th>3</th>\n",
              "      <td>marketing+smm+content</td>\n",
              "      <td>Столяр Дарья</td>\n",
              "      <td>Отмена вакансии</td>\n",
              "    </tr>\n",
              "    <tr>\n",
              "      <th>4</th>\n",
              "      <td>С/С++ (CATIA) developer</td>\n",
              "      <td>Фокин Владислав</td>\n",
              "      <td>Отмена вакансии</td>\n",
              "    </tr>\n",
              "  </tbody>\n",
              "</table>\n",
              "</div>\n",
              "    <div class=\"colab-df-buttons\">\n",
              "\n",
              "  <div class=\"colab-df-container\">\n",
              "    <button class=\"colab-df-convert\" onclick=\"convertToInteractive('df-2a2918cb-6988-4abc-b5c8-126efa82c4ca')\"\n",
              "            title=\"Convert this dataframe to an interactive table.\"\n",
              "            style=\"display:none;\">\n",
              "\n",
              "  <svg xmlns=\"http://www.w3.org/2000/svg\" height=\"24px\" viewBox=\"0 -960 960 960\">\n",
              "    <path d=\"M120-120v-720h720v720H120Zm60-500h600v-160H180v160Zm220 220h160v-160H400v160Zm0 220h160v-160H400v160ZM180-400h160v-160H180v160Zm440 0h160v-160H620v160ZM180-180h160v-160H180v160Zm440 0h160v-160H620v160Z\"/>\n",
              "  </svg>\n",
              "    </button>\n",
              "\n",
              "  <style>\n",
              "    .colab-df-container {\n",
              "      display:flex;\n",
              "      gap: 12px;\n",
              "    }\n",
              "\n",
              "    .colab-df-convert {\n",
              "      background-color: #E8F0FE;\n",
              "      border: none;\n",
              "      border-radius: 50%;\n",
              "      cursor: pointer;\n",
              "      display: none;\n",
              "      fill: #1967D2;\n",
              "      height: 32px;\n",
              "      padding: 0 0 0 0;\n",
              "      width: 32px;\n",
              "    }\n",
              "\n",
              "    .colab-df-convert:hover {\n",
              "      background-color: #E2EBFA;\n",
              "      box-shadow: 0px 1px 2px rgba(60, 64, 67, 0.3), 0px 1px 3px 1px rgba(60, 64, 67, 0.15);\n",
              "      fill: #174EA6;\n",
              "    }\n",
              "\n",
              "    .colab-df-buttons div {\n",
              "      margin-bottom: 4px;\n",
              "    }\n",
              "\n",
              "    [theme=dark] .colab-df-convert {\n",
              "      background-color: #3B4455;\n",
              "      fill: #D2E3FC;\n",
              "    }\n",
              "\n",
              "    [theme=dark] .colab-df-convert:hover {\n",
              "      background-color: #434B5C;\n",
              "      box-shadow: 0px 1px 3px 1px rgba(0, 0, 0, 0.15);\n",
              "      filter: drop-shadow(0px 1px 2px rgba(0, 0, 0, 0.3));\n",
              "      fill: #FFFFFF;\n",
              "    }\n",
              "  </style>\n",
              "\n",
              "    <script>\n",
              "      const buttonEl =\n",
              "        document.querySelector('#df-2a2918cb-6988-4abc-b5c8-126efa82c4ca button.colab-df-convert');\n",
              "      buttonEl.style.display =\n",
              "        google.colab.kernel.accessAllowed ? 'block' : 'none';\n",
              "\n",
              "      async function convertToInteractive(key) {\n",
              "        const element = document.querySelector('#df-2a2918cb-6988-4abc-b5c8-126efa82c4ca');\n",
              "        const dataTable =\n",
              "          await google.colab.kernel.invokeFunction('convertToInteractive',\n",
              "                                                    [key], {});\n",
              "        if (!dataTable) return;\n",
              "\n",
              "        const docLinkHtml = 'Like what you see? Visit the ' +\n",
              "          '<a target=\"_blank\" href=https://colab.research.google.com/notebooks/data_table.ipynb>data table notebook</a>'\n",
              "          + ' to learn more about interactive tables.';\n",
              "        element.innerHTML = '';\n",
              "        dataTable['output_type'] = 'display_data';\n",
              "        await google.colab.output.renderOutput(dataTable, element);\n",
              "        const docLink = document.createElement('div');\n",
              "        docLink.innerHTML = docLinkHtml;\n",
              "        element.appendChild(docLink);\n",
              "      }\n",
              "    </script>\n",
              "  </div>\n",
              "\n",
              "\n",
              "<div id=\"df-f7d2f60b-b0a1-485f-bcaa-9ac7f896767a\">\n",
              "  <button class=\"colab-df-quickchart\" onclick=\"quickchart('df-f7d2f60b-b0a1-485f-bcaa-9ac7f896767a')\"\n",
              "            title=\"Suggest charts\"\n",
              "            style=\"display:none;\">\n",
              "\n",
              "<svg xmlns=\"http://www.w3.org/2000/svg\" height=\"24px\"viewBox=\"0 0 24 24\"\n",
              "     width=\"24px\">\n",
              "    <g>\n",
              "        <path d=\"M19 3H5c-1.1 0-2 .9-2 2v14c0 1.1.9 2 2 2h14c1.1 0 2-.9 2-2V5c0-1.1-.9-2-2-2zM9 17H7v-7h2v7zm4 0h-2V7h2v10zm4 0h-2v-4h2v4z\"/>\n",
              "    </g>\n",
              "</svg>\n",
              "  </button>\n",
              "\n",
              "<style>\n",
              "  .colab-df-quickchart {\n",
              "      --bg-color: #E8F0FE;\n",
              "      --fill-color: #1967D2;\n",
              "      --hover-bg-color: #E2EBFA;\n",
              "      --hover-fill-color: #174EA6;\n",
              "      --disabled-fill-color: #AAA;\n",
              "      --disabled-bg-color: #DDD;\n",
              "  }\n",
              "\n",
              "  [theme=dark] .colab-df-quickchart {\n",
              "      --bg-color: #3B4455;\n",
              "      --fill-color: #D2E3FC;\n",
              "      --hover-bg-color: #434B5C;\n",
              "      --hover-fill-color: #FFFFFF;\n",
              "      --disabled-bg-color: #3B4455;\n",
              "      --disabled-fill-color: #666;\n",
              "  }\n",
              "\n",
              "  .colab-df-quickchart {\n",
              "    background-color: var(--bg-color);\n",
              "    border: none;\n",
              "    border-radius: 50%;\n",
              "    cursor: pointer;\n",
              "    display: none;\n",
              "    fill: var(--fill-color);\n",
              "    height: 32px;\n",
              "    padding: 0;\n",
              "    width: 32px;\n",
              "  }\n",
              "\n",
              "  .colab-df-quickchart:hover {\n",
              "    background-color: var(--hover-bg-color);\n",
              "    box-shadow: 0 1px 2px rgba(60, 64, 67, 0.3), 0 1px 3px 1px rgba(60, 64, 67, 0.15);\n",
              "    fill: var(--button-hover-fill-color);\n",
              "  }\n",
              "\n",
              "  .colab-df-quickchart-complete:disabled,\n",
              "  .colab-df-quickchart-complete:disabled:hover {\n",
              "    background-color: var(--disabled-bg-color);\n",
              "    fill: var(--disabled-fill-color);\n",
              "    box-shadow: none;\n",
              "  }\n",
              "\n",
              "  .colab-df-spinner {\n",
              "    border: 2px solid var(--fill-color);\n",
              "    border-color: transparent;\n",
              "    border-bottom-color: var(--fill-color);\n",
              "    animation:\n",
              "      spin 1s steps(1) infinite;\n",
              "  }\n",
              "\n",
              "  @keyframes spin {\n",
              "    0% {\n",
              "      border-color: transparent;\n",
              "      border-bottom-color: var(--fill-color);\n",
              "      border-left-color: var(--fill-color);\n",
              "    }\n",
              "    20% {\n",
              "      border-color: transparent;\n",
              "      border-left-color: var(--fill-color);\n",
              "      border-top-color: var(--fill-color);\n",
              "    }\n",
              "    30% {\n",
              "      border-color: transparent;\n",
              "      border-left-color: var(--fill-color);\n",
              "      border-top-color: var(--fill-color);\n",
              "      border-right-color: var(--fill-color);\n",
              "    }\n",
              "    40% {\n",
              "      border-color: transparent;\n",
              "      border-right-color: var(--fill-color);\n",
              "      border-top-color: var(--fill-color);\n",
              "    }\n",
              "    60% {\n",
              "      border-color: transparent;\n",
              "      border-right-color: var(--fill-color);\n",
              "    }\n",
              "    80% {\n",
              "      border-color: transparent;\n",
              "      border-right-color: var(--fill-color);\n",
              "      border-bottom-color: var(--fill-color);\n",
              "    }\n",
              "    90% {\n",
              "      border-color: transparent;\n",
              "      border-bottom-color: var(--fill-color);\n",
              "    }\n",
              "  }\n",
              "</style>\n",
              "\n",
              "  <script>\n",
              "    async function quickchart(key) {\n",
              "      const quickchartButtonEl =\n",
              "        document.querySelector('#' + key + ' button');\n",
              "      quickchartButtonEl.disabled = true;  // To prevent multiple clicks.\n",
              "      quickchartButtonEl.classList.add('colab-df-spinner');\n",
              "      try {\n",
              "        const charts = await google.colab.kernel.invokeFunction(\n",
              "            'suggestCharts', [key], {});\n",
              "      } catch (error) {\n",
              "        console.error('Error during call to suggestCharts:', error);\n",
              "      }\n",
              "      quickchartButtonEl.classList.remove('colab-df-spinner');\n",
              "      quickchartButtonEl.classList.add('colab-df-quickchart-complete');\n",
              "    }\n",
              "    (() => {\n",
              "      let quickchartButtonEl =\n",
              "        document.querySelector('#df-f7d2f60b-b0a1-485f-bcaa-9ac7f896767a button');\n",
              "      quickchartButtonEl.style.display =\n",
              "        google.colab.kernel.accessAllowed ? 'block' : 'none';\n",
              "    })();\n",
              "  </script>\n",
              "</div>\n",
              "    </div>\n",
              "  </div>\n"
            ],
            "application/vnd.google.colaboratory.intrinsic+json": {
              "type": "dataframe",
              "variable_name": "df_rec",
              "summary": "{\n  \"name\": \"df_rec\",\n  \"rows\": 436,\n  \"fields\": [\n    {\n      \"column\": \"name\",\n      \"properties\": {\n        \"dtype\": \"category\",\n        \"num_unique_values\": 161,\n        \"samples\": [\n          \"Junior React Native Developer\",\n          \"Product owner\",\n          \"Ruby Mid/Snr\"\n        ],\n        \"semantic_type\": \"\",\n        \"description\": \"\"\n      }\n    },\n    {\n      \"column\": \"name.1\",\n      \"properties\": {\n        \"dtype\": \"string\",\n        \"num_unique_values\": 427,\n        \"samples\": [\n          \"\\u0412\\u043e\\u0439\\u0442\\u0435\\u0448\\u043e\\u043d\\u043e\\u043a \\u041e\\u043b\\u0435\\u0433\",\n          \"\\u0421\\u044b\\u0447 \\u0422\\u0430\\u0440\\u0430\\u0441\",\n          \"\\u0411\\u0435\\u043b\\u0430\\u0448 \\u0415\\u0432\\u0433\\u0435\\u043d\\u0438\\u0439\"\n        ],\n        \"semantic_type\": \"\",\n        \"description\": \"\"\n      }\n    },\n    {\n      \"column\": \"name.2\",\n      \"properties\": {\n        \"dtype\": \"category\",\n        \"num_unique_values\": 3,\n        \"samples\": [\n          \"\\u0422\\u0435\\u0441\\u0442\\u043e\\u0432\\u043e\\u0435 \\u0437\\u0430\\u0434\\u0430\\u043d\\u0438\\u0435\",\n          \"\\u041f\\u0430\\u0443\\u0437\\u0430\",\n          \"\\u041e\\u0442\\u043c\\u0435\\u043d\\u0430 \\u0432\\u0430\\u043a\\u0430\\u043d\\u0441\\u0438\\u0438\"\n        ],\n        \"semantic_type\": \"\",\n        \"description\": \"\"\n      }\n    }\n  ]\n}"
            }
          },
          "metadata": {},
          "execution_count": 9
        }
      ]
    },
    {
      "cell_type": "code",
      "source": [
        "df_rec['name.2'].value_counts()"
      ],
      "metadata": {
        "colab": {
          "base_uri": "https://localhost:8080/"
        },
        "id": "xSVh9bIgcfrk",
        "outputId": "d4ce7124-553a-4343-f359-5304ecc62bae"
      },
      "execution_count": null,
      "outputs": [
        {
          "output_type": "execute_result",
          "data": {
            "text/plain": [
              "name.2\n",
              "Отмена вакансии     433\n",
              "Тестовое задание      2\n",
              "Пауза                 1\n",
              "Name: count, dtype: int64"
            ]
          },
          "metadata": {},
          "execution_count": 16
        }
      ]
    },
    {
      "cell_type": "code",
      "source": [],
      "metadata": {
        "id": "PkwT-JdLU8-Y"
      },
      "execution_count": null,
      "outputs": []
    },
    {
      "cell_type": "markdown",
      "source": [
        "# с учетом обновлений"
      ],
      "metadata": {
        "id": "lst0sD0NU9gI"
      }
    },
    {
      "cell_type": "code",
      "source": [
        "import pandas as pd\n",
        "\n",
        "# Загрузка данных\n",
        "documents_df = pd.read_csv('/content/drive/MyDrive/documents_Sivilio.csv')\n",
        "records_df = pd.read_csv('/content/drive/MyDrive/records - records.csv')\n",
        "\n",
        "# Очистка данных: удаление пустых строк, если они не несут значимой информации\n",
        "documents_df = documents_df.dropna(subset=['name.1', 'skill'])\n",
        "\n",
        "# Подготовка колонок (переименование для удобства)\n",
        "documents_df.rename(columns={'name.1': 'level', 'skill': 'skills'}, inplace=True)\n",
        "records_df.rename(columns={'name': 'position', 'name.1': 'candidate_name', 'name.2': 'status'}, inplace=True)\n",
        "\n",
        "print(documents_df.head())\n",
        "print(records_df.head())\n"
      ],
      "metadata": {
        "id": "C372IpOocfxk",
        "colab": {
          "base_uri": "https://localhost:8080/"
        },
        "outputId": "587a16aa-396b-4166-e56b-7ea90861db49"
      },
      "execution_count": 1,
      "outputs": [
        {
          "output_type": "stream",
          "name": "stdout",
          "text": [
            "   name  email  phone   level                    skills  \\\n",
            "1   NaN    NaN    NaN  Middle             Java,Selenium   \n",
            "4   NaN    NaN    NaN  Middle  Scrum,Product Management   \n",
            "5   NaN    NaN    NaN  Senior            Mobile testing   \n",
            "6   NaN    NaN    NaN  Middle            Mobile testing   \n",
            "8   NaN    NaN    NaN  Senior                 Magento 2   \n",
            "\n",
            "                                        major  \\\n",
            "1                              Java,Ruby,Jira   \n",
            "4                    Scrum,Product Management   \n",
            "5  MySQL,Swift,Android,iOS,Git,Mobile testing   \n",
            "6                  Android,iOS,Mobile testing   \n",
            "8                            Java,PHP,Magento   \n",
            "\n",
            "                                                file  \n",
            "1  https://admin.sivilio.by/api/core/files/downlo...  \n",
            "4  https://admin.sivilio.by/api/core/files/downlo...  \n",
            "5  https://admin.sivilio.by/api/core/files/downlo...  \n",
            "6  https://admin.sivilio.by/api/core/files/downlo...  \n",
            "8  https://admin.sivilio.by/api/core/files/downlo...  \n",
            "                   position   candidate_name            status\n",
            "0            С++ Think-Cell     Русович Юрий  Тестовое задание\n",
            "1    React Native Developer  Лилия Кушнарева  Тестовое задание\n",
            "2  Back End Developer - RND    Фабер Джулиан             Пауза\n",
            "3     marketing+smm+content     Столяр Дарья   Отмена вакансии\n",
            "4   С/С++ (CATIA) developer  Фокин Владислав   Отмена вакансии\n"
          ]
        },
        {
          "output_type": "stream",
          "name": "stderr",
          "text": [
            "<ipython-input-1-52073821802f>:11: SettingWithCopyWarning: \n",
            "A value is trying to be set on a copy of a slice from a DataFrame\n",
            "\n",
            "See the caveats in the documentation: https://pandas.pydata.org/pandas-docs/stable/user_guide/indexing.html#returning-a-view-versus-a-copy\n",
            "  documents_df.rename(columns={'name.1': 'level', 'skill': 'skills'}, inplace=True)\n"
          ]
        }
      ]
    },
    {
      "cell_type": "code",
      "source": [
        "def filter_by_level(df, level):\n",
        "    return df[df['level'].str.contains(level, case=False)]\n"
      ],
      "metadata": {
        "id": "5mOMk2B4cf0M"
      },
      "execution_count": 2,
      "outputs": []
    },
    {
      "cell_type": "code",
      "source": [
        "def filter_by_skills(df, required_skills):\n",
        "    # Предполагаем, что навыки в датафрейме перечислены через запятую\n",
        "    return df[df['skills'].apply(lambda x: all(skill in x.split(',') for skill in required_skills))]\n"
      ],
      "metadata": {
        "id": "fE7zYhsxcf5c"
      },
      "execution_count": 3,
      "outputs": []
    },
    {
      "cell_type": "code",
      "source": [
        "import pandas as pd\n",
        "\n",
        "# Загрузка данных\n",
        "documents_df = pd.read_csv('/content/drive/MyDrive/documents_Sivilio.csv')\n",
        "records_df = pd.read_csv('/content/drive/MyDrive/records - records.csv')\n",
        "\n",
        "# Переименовываем колонки для удобства, делаем это до фильтрации\n",
        "documents_df.rename(columns={'name.1': 'level', 'skill': 'skills'}, inplace=True)\n",
        "records_df.rename(columns={'name': 'position', 'name.1': 'candidate_name', 'name.2': 'status'}, inplace=True)\n",
        "\n",
        "# Очистка данных: удаление пустых строк, если они не несут значимой информации\n",
        "# Используем .copy() чтобы избежать SettingWithCopyWarning\n",
        "clean_documents_df = documents_df.dropna(subset=['level', 'skills']).copy()\n",
        "\n",
        "print(clean_documents_df.head())\n",
        "print(records_df.head())\n"
      ],
      "metadata": {
        "colab": {
          "base_uri": "https://localhost:8080/"
        },
        "id": "rsr55PnNV4sj",
        "outputId": "9f2cbac0-9308-48df-d7a9-d6d58deae5eb"
      },
      "execution_count": 4,
      "outputs": [
        {
          "output_type": "stream",
          "name": "stdout",
          "text": [
            "   name  email  phone   level                    skills  \\\n",
            "1   NaN    NaN    NaN  Middle             Java,Selenium   \n",
            "4   NaN    NaN    NaN  Middle  Scrum,Product Management   \n",
            "5   NaN    NaN    NaN  Senior            Mobile testing   \n",
            "6   NaN    NaN    NaN  Middle            Mobile testing   \n",
            "8   NaN    NaN    NaN  Senior                 Magento 2   \n",
            "\n",
            "                                        major  \\\n",
            "1                              Java,Ruby,Jira   \n",
            "4                    Scrum,Product Management   \n",
            "5  MySQL,Swift,Android,iOS,Git,Mobile testing   \n",
            "6                  Android,iOS,Mobile testing   \n",
            "8                            Java,PHP,Magento   \n",
            "\n",
            "                                                file  \n",
            "1  https://admin.sivilio.by/api/core/files/downlo...  \n",
            "4  https://admin.sivilio.by/api/core/files/downlo...  \n",
            "5  https://admin.sivilio.by/api/core/files/downlo...  \n",
            "6  https://admin.sivilio.by/api/core/files/downlo...  \n",
            "8  https://admin.sivilio.by/api/core/files/downlo...  \n",
            "                   position   candidate_name            status\n",
            "0            С++ Think-Cell     Русович Юрий  Тестовое задание\n",
            "1    React Native Developer  Лилия Кушнарева  Тестовое задание\n",
            "2  Back End Developer - RND    Фабер Джулиан             Пауза\n",
            "3     marketing+smm+content     Столяр Дарья   Отмена вакансии\n",
            "4   С/С++ (CATIA) developer  Фокин Владислав   Отмена вакансии\n"
          ]
        }
      ]
    },
    {
      "cell_type": "code",
      "source": [
        "def filter_by_level(df, level):\n",
        "    return df[df['level'].str.contains(level, case=False)]\n",
        "\n",
        "def filter_by_skills(df, required_skills):\n",
        "    # Предполагаем, что навыки в датафрейме перечислены через запятую\n",
        "    return df[df['skills'].apply(lambda x: all(skill.lower() in x.lower().split(',') for skill in required_skills))]\n",
        "\n",
        "# Пример фильтрации по уровню и навыкам\n",
        "filtered_by_level = filter_by_level(clean_documents_df, 'Middle')\n",
        "filtered_by_skills = filter_by_skills(clean_documents_df, ['Java', 'Selenium'])\n",
        "\n",
        "print(filtered_by_level)\n",
        "print(filtered_by_skills)\n"
      ],
      "metadata": {
        "colab": {
          "base_uri": "https://localhost:8080/"
        },
        "id": "4YNlWZRiV42B",
        "outputId": "88b2b7e4-a2cb-4eed-f65c-141f6ba257c8"
      },
      "execution_count": 5,
      "outputs": [
        {
          "output_type": "stream",
          "name": "stdout",
          "text": [
            "      name  email  phone   level                    skills  \\\n",
            "1      NaN    NaN    NaN  Middle             Java,Selenium   \n",
            "4      NaN    NaN    NaN  Middle  Scrum,Product Management   \n",
            "6      NaN    NaN    NaN  Middle            Mobile testing   \n",
            "20     NaN    NaN    NaN  Middle                   Magento   \n",
            "25     NaN    NaN    NaN  Middle                       PHP   \n",
            "...    ...    ...    ...     ...                       ...   \n",
            "4610   NaN    NaN    NaN  Middle                       C++   \n",
            "4615   NaN    NaN    NaN  Middle      Nodejs,Angular,React   \n",
            "4624   NaN    NaN    NaN  Middle                       PHP   \n",
            "4643   NaN    NaN    NaN  Middle                 Go/Golang   \n",
            "4646   NaN    NaN    NaN  Middle                      Java   \n",
            "\n",
            "                                                  major  \\\n",
            "1                                        Java,Ruby,Jira   \n",
            "4                              Scrum,Product Management   \n",
            "6                            Android,iOS,Mobile testing   \n",
            "20                                              Magento   \n",
            "25                                        Vuejs,Laravel   \n",
            "...                                                 ...   \n",
            "4610                                     C++,Blockchain   \n",
            "4615  Javascript,Nodejs,Angular,Docker,React,Postgre...   \n",
            "4624                                        PHP,Symfony   \n",
            "4643                                          Go/Golang   \n",
            "4646                              Java,Spring Framework   \n",
            "\n",
            "                                                   file  \n",
            "1     https://admin.sivilio.by/api/core/files/downlo...  \n",
            "4     https://admin.sivilio.by/api/core/files/downlo...  \n",
            "6     https://admin.sivilio.by/api/core/files/downlo...  \n",
            "20    https://admin.sivilio.by/api/core/files/downlo...  \n",
            "25    https://admin.sivilio.by/api/core/files/downlo...  \n",
            "...                                                 ...  \n",
            "4610  https://admin.sivilio.by/api/core/files/downlo...  \n",
            "4615  https://admin.sivilio.by/api/core/files/downlo...  \n",
            "4624  https://admin.sivilio.by/api/core/files/downlo...  \n",
            "4643  https://admin.sivilio.by/api/core/files/downlo...  \n",
            "4646  https://admin.sivilio.by/api/core/files/downlo...  \n",
            "\n",
            "[1511 rows x 7 columns]\n",
            "      name  email  phone   level         skills               major  \\\n",
            "1      NaN    NaN    NaN  Middle  Java,Selenium      Java,Ruby,Jira   \n",
            "1343   NaN    NaN    NaN  Middle  Java,Selenium  Java,Selenium,Jira   \n",
            "3765   NaN    NaN    NaN  Junior  Java,Selenium       Java,Selenium   \n",
            "\n",
            "                                                   file  \n",
            "1     https://admin.sivilio.by/api/core/files/downlo...  \n",
            "1343  https://admin.sivilio.by/api/core/files/downlo...  \n",
            "3765  https://admin.sivilio.by/api/core/files/downlo...  \n"
          ]
        }
      ]
    },
    {
      "cell_type": "code",
      "source": [
        "import pandas as pd\n",
        "import matplotlib.pyplot as plt\n",
        "import seaborn as sns\n",
        "\n",
        "documents_df = pd.read_csv('/content/drive/MyDrive/documents_Sivilio.csv')\n",
        "documents_df.rename(columns={'name.1': 'level', 'skill': 'skills'}, inplace=True)\n",
        "documents_df.dropna(subset=['level', 'skills'], inplace=True)\n",
        "\n",
        "level_counts = documents_df['level'].value_counts()\n",
        "\n",
        "skill_series = documents_df['skills'].str.split(',').explode()\n",
        "top_skills = skill_series.value_counts().head(10)\n"
      ],
      "metadata": {
        "id": "-YF7ryvbV48E"
      },
      "execution_count": 7,
      "outputs": []
    },
    {
      "cell_type": "code",
      "source": [
        "plt.figure(figsize=(10, 6))\n",
        "sns.barplot(x=level_counts.index, y=level_counts.values, palette='viridis')\n",
        "plt.title('Распределение уровней квалификации кандидатов')\n",
        "plt.xlabel('Уровень квалификации')\n",
        "plt.ylabel('Количество кандидатов')\n",
        "plt.show()\n",
        "\n",
        "plt.figure(figsize=(12, 8))\n",
        "sns.barplot(x=top_skills.values, y=top_skills.index, palette='rocket')\n",
        "plt.title('Топ-10 наиболее востребованных навыков')\n",
        "plt.xlabel('Количество кандидатов')\n",
        "plt.ylabel('Навыки')\n",
        "plt.show()\n"
      ],
      "metadata": {
        "colab": {
          "base_uri": "https://localhost:8080/",
          "height": 1000
        },
        "id": "bKO3VSlKV5Ab",
        "outputId": "f344f272-c5a3-4553-cc94-530b5e619908"
      },
      "execution_count": 8,
      "outputs": [
        {
          "output_type": "stream",
          "name": "stderr",
          "text": [
            "<ipython-input-8-a34dec625860>:3: FutureWarning: \n",
            "\n",
            "Passing `palette` without assigning `hue` is deprecated and will be removed in v0.14.0. Assign the `x` variable to `hue` and set `legend=False` for the same effect.\n",
            "\n",
            "  sns.barplot(x=level_counts.index, y=level_counts.values, palette='viridis')\n"
          ]
        },
        {
          "output_type": "display_data",
          "data": {
            "text/plain": [
              "<Figure size 1000x600 with 1 Axes>"
            ],
            "image/png": "[encoded data removed]"
          },
          "metadata": {}
        },
        {
          "output_type": "stream",
          "name": "stderr",
          "text": [
            "<ipython-input-8-a34dec625860>:11: FutureWarning: \n",
            "\n",
            "Passing `palette` without assigning `hue` is deprecated and will be removed in v0.14.0. Assign the `y` variable to `hue` and set `legend=False` for the same effect.\n",
            "\n",
            "  sns.barplot(x=top_skills.values, y=top_skills.index, palette='rocket')\n"
          ]
        },
        {
          "output_type": "display_data",
          "data": {
            "text/plain": [
              "<Figure size 1200x800 with 1 Axes>"
            ],
            "image/png": "[encoded data removed]"
          },
          "metadata": {}
        }
      ]
    },
    {
      "cell_type": "code",
      "source": [],
      "metadata": {
        "id": "IQAeNElvgusN"
      },
      "execution_count": null,
      "outputs": []
    },
    {
      "cell_type": "code",
      "source": [
        "import pandas as pd\n",
        "from sklearn.model_selection import train_test_split\n",
        "from sklearn.preprocessing import OneHotEncoder, LabelEncoder, MinMaxScaler\n",
        "\n",
        "# Загрузка данных\n",
        "documents_df = pd.read_csv('/content/drive/MyDrive/documents_Sivilio.csv')\n",
        "records_df = pd.read_csv('/content/drive/MyDrive/records - records.csv')\n",
        "\n",
        "# Предполагаем, что в documents_df уже переименованы столбцы для удобства\n",
        "# documents_df.rename(columns={'name.1': 'level', 'skill': 'skills'}, inplace=True)\n",
        "\n",
        "# Заполнение пропущенных значений (или можно удалить эти строки, если они не критичны)\n",
        "documents_df.fillna('', inplace=True)\n",
        "\n",
        "# Кодирование категориальных переменных\n",
        "# Для уровня квалификации\n",
        "le = LabelEncoder()\n",
        "documents_df['level_encoded'] = le.fit_transform(documents_df['level'])\n",
        "\n",
        "# Для навыков мы можем использовать OneHotEncoder или другие стратегии в зависимости от размера данных\n",
        "# Так как навыки представлены списком, их нужно сначала преобразовать в формат, который можно закодировать\n",
        "skills_series = documents_df['skills'].str.split(',').explode().unique()\n",
        "skills_encoded = pd.get_dummies(skills_series, prefix='skill').max(level=0)\n",
        "\n",
        "# Объединение закодированных навыков обратно с основным DataFrame\n",
        "documents_df = documents_df.join(skills_encoded, on='skills', how='left')\n",
        "\n",
        "# Разбиение данных на обучающий и тестовый наборы\n",
        "X = documents_df.drop(['level', 'skills', 'major', 'file'], axis=1) # Здесь нужно включить только признаки для модели\n",
        "y = documents_df['level_encoded'] # Или другой целевой признак, если он у нас есть\n",
        "\n",
        "X_train, X_test, y_train, y_test = train_test_split(X, y, test_size=0.2, random_state=42)\n",
        "\n",
        "# Нормализация данных (если есть числовые признаки)\n",
        "# scaler = MinMaxScaler()\n",
        "# X_train_scaled = scaler.fit_transform(X_train)\n",
        "# X_test_scaled = scaler.transform(X_test)\n"
      ],
      "metadata": {
        "colab": {
          "base_uri": "https://localhost:8080/",
          "height": 477
        },
        "id": "a7KErN_agUJo",
        "outputId": "21cfc3f0-09bb-4e81-e6e5-6566d638c67f"
      },
      "execution_count": null,
      "outputs": [
        {
          "output_type": "error",
          "ename": "KeyError",
          "evalue": "'level'",
          "traceback": [
            "\u001b[0;31m---------------------------------------------------------------------------\u001b[0m",
            "\u001b[0;31mKeyError\u001b[0m                                  Traceback (most recent call last)",
            "\u001b[0;32m/usr/local/lib/python3.10/dist-packages/pandas/core/indexes/base.py\u001b[0m in \u001b[0;36mget_loc\u001b[0;34m(self, key)\u001b[0m\n\u001b[1;32m   3652\u001b[0m         \u001b[0;32mtry\u001b[0m\u001b[0;34m:\u001b[0m\u001b[0;34m\u001b[0m\u001b[0;34m\u001b[0m\u001b[0m\n\u001b[0;32m-> 3653\u001b[0;31m             \u001b[0;32mreturn\u001b[0m \u001b[0mself\u001b[0m\u001b[0;34m.\u001b[0m\u001b[0m_engine\u001b[0m\u001b[0;34m.\u001b[0m\u001b[0mget_loc\u001b[0m\u001b[0;34m(\u001b[0m\u001b[0mcasted_key\u001b[0m\u001b[0;34m)\u001b[0m\u001b[0;34m\u001b[0m\u001b[0;34m\u001b[0m\u001b[0m\n\u001b[0m\u001b[1;32m   3654\u001b[0m         \u001b[0;32mexcept\u001b[0m \u001b[0mKeyError\u001b[0m \u001b[0;32mas\u001b[0m \u001b[0merr\u001b[0m\u001b[0;34m:\u001b[0m\u001b[0;34m\u001b[0m\u001b[0;34m\u001b[0m\u001b[0m\n",
            "\u001b[0;32m/usr/local/lib/python3.10/dist-packages/pandas/_libs/index.pyx\u001b[0m in \u001b[0;36mpandas._libs.index.IndexEngine.get_loc\u001b[0;34m()\u001b[0m\n",
            "\u001b[0;32m/usr/local/lib/python3.10/dist-packages/pandas/_libs/index.pyx\u001b[0m in \u001b[0;36mpandas._libs.index.IndexEngine.get_loc\u001b[0;34m()\u001b[0m\n",
            "\u001b[0;32mpandas/_libs/hashtable_class_helper.pxi\u001b[0m in \u001b[0;36mpandas._libs.hashtable.PyObjectHashTable.get_item\u001b[0;34m()\u001b[0m\n",
            "\u001b[0;32mpandas/_libs/hashtable_class_helper.pxi\u001b[0m in \u001b[0;36mpandas._libs.hashtable.PyObjectHashTable.get_item\u001b[0;34m()\u001b[0m\n",
            "\u001b[0;31mKeyError\u001b[0m: 'level'",
            "\nThe above exception was the direct cause of the following exception:\n",
            "\u001b[0;31mKeyError\u001b[0m                                  Traceback (most recent call last)",
            "\u001b[0;32m<ipython-input-9-ee67d45cbb8d>\u001b[0m in \u001b[0;36m<cell line: 18>\u001b[0;34m()\u001b[0m\n\u001b[1;32m     16\u001b[0m \u001b[0;31m# Для уровня квалификации\u001b[0m\u001b[0;34m\u001b[0m\u001b[0;34m\u001b[0m\u001b[0m\n\u001b[1;32m     17\u001b[0m \u001b[0mle\u001b[0m \u001b[0;34m=\u001b[0m \u001b[0mLabelEncoder\u001b[0m\u001b[0;34m(\u001b[0m\u001b[0;34m)\u001b[0m\u001b[0;34m\u001b[0m\u001b[0;34m\u001b[0m\u001b[0m\n\u001b[0;32m---> 18\u001b[0;31m \u001b[0mdocuments_df\u001b[0m\u001b[0;34m[\u001b[0m\u001b[0;34m'level_encoded'\u001b[0m\u001b[0;34m]\u001b[0m \u001b[0;34m=\u001b[0m \u001b[0mle\u001b[0m\u001b[0;34m.\u001b[0m\u001b[0mfit_transform\u001b[0m\u001b[0;34m(\u001b[0m\u001b[0mdocuments_df\u001b[0m\u001b[0;34m[\u001b[0m\u001b[0;34m'level'\u001b[0m\u001b[0;34m]\u001b[0m\u001b[0;34m)\u001b[0m\u001b[0;34m\u001b[0m\u001b[0;34m\u001b[0m\u001b[0m\n\u001b[0m\u001b[1;32m     19\u001b[0m \u001b[0;34m\u001b[0m\u001b[0m\n\u001b[1;32m     20\u001b[0m \u001b[0;31m# Для навыков мы можем использовать OneHotEncoder или другие стратегии в зависимости от размера данных\u001b[0m\u001b[0;34m\u001b[0m\u001b[0;34m\u001b[0m\u001b[0m\n",
            "\u001b[0;32m/usr/local/lib/python3.10/dist-packages/pandas/core/frame.py\u001b[0m in \u001b[0;36m__getitem__\u001b[0;34m(self, key)\u001b[0m\n\u001b[1;32m   3759\u001b[0m             \u001b[0;32mif\u001b[0m \u001b[0mself\u001b[0m\u001b[0;34m.\u001b[0m\u001b[0mcolumns\u001b[0m\u001b[0;34m.\u001b[0m\u001b[0mnlevels\u001b[0m \u001b[0;34m>\u001b[0m \u001b[0;36m1\u001b[0m\u001b[0;34m:\u001b[0m\u001b[0;34m\u001b[0m\u001b[0;34m\u001b[0m\u001b[0m\n\u001b[1;32m   3760\u001b[0m                 \u001b[0;32mreturn\u001b[0m \u001b[0mself\u001b[0m\u001b[0;34m.\u001b[0m\u001b[0m_getitem_multilevel\u001b[0m\u001b[0;34m(\u001b[0m\u001b[0mkey\u001b[0m\u001b[0;34m)\u001b[0m\u001b[0;34m\u001b[0m\u001b[0;34m\u001b[0m\u001b[0m\n\u001b[0;32m-> 3761\u001b[0;31m             \u001b[0mindexer\u001b[0m \u001b[0;34m=\u001b[0m \u001b[0mself\u001b[0m\u001b[0;34m.\u001b[0m\u001b[0mcolumns\u001b[0m\u001b[0;34m.\u001b[0m\u001b[0mget_loc\u001b[0m\u001b[0;34m(\u001b[0m\u001b[0mkey\u001b[0m\u001b[0;34m)\u001b[0m\u001b[0;34m\u001b[0m\u001b[0;34m\u001b[0m\u001b[0m\n\u001b[0m\u001b[1;32m   3762\u001b[0m             \u001b[0;32mif\u001b[0m \u001b[0mis_integer\u001b[0m\u001b[0;34m(\u001b[0m\u001b[0mindexer\u001b[0m\u001b[0;34m)\u001b[0m\u001b[0;34m:\u001b[0m\u001b[0;34m\u001b[0m\u001b[0;34m\u001b[0m\u001b[0m\n\u001b[1;32m   3763\u001b[0m                 \u001b[0mindexer\u001b[0m \u001b[0;34m=\u001b[0m \u001b[0;34m[\u001b[0m\u001b[0mindexer\u001b[0m\u001b[0;34m]\u001b[0m\u001b[0;34m\u001b[0m\u001b[0;34m\u001b[0m\u001b[0m\n",
            "\u001b[0;32m/usr/local/lib/python3.10/dist-packages/pandas/core/indexes/base.py\u001b[0m in \u001b[0;36mget_loc\u001b[0;34m(self, key)\u001b[0m\n\u001b[1;32m   3653\u001b[0m             \u001b[0;32mreturn\u001b[0m \u001b[0mself\u001b[0m\u001b[0;34m.\u001b[0m\u001b[0m_engine\u001b[0m\u001b[0;34m.\u001b[0m\u001b[0mget_loc\u001b[0m\u001b[0;34m(\u001b[0m\u001b[0mcasted_key\u001b[0m\u001b[0;34m)\u001b[0m\u001b[0;34m\u001b[0m\u001b[0;34m\u001b[0m\u001b[0m\n\u001b[1;32m   3654\u001b[0m         \u001b[0;32mexcept\u001b[0m \u001b[0mKeyError\u001b[0m \u001b[0;32mas\u001b[0m \u001b[0merr\u001b[0m\u001b[0;34m:\u001b[0m\u001b[0;34m\u001b[0m\u001b[0;34m\u001b[0m\u001b[0m\n\u001b[0;32m-> 3655\u001b[0;31m             \u001b[0;32mraise\u001b[0m \u001b[0mKeyError\u001b[0m\u001b[0;34m(\u001b[0m\u001b[0mkey\u001b[0m\u001b[0;34m)\u001b[0m \u001b[0;32mfrom\u001b[0m \u001b[0merr\u001b[0m\u001b[0;34m\u001b[0m\u001b[0;34m\u001b[0m\u001b[0m\n\u001b[0m\u001b[1;32m   3656\u001b[0m         \u001b[0;32mexcept\u001b[0m \u001b[0mTypeError\u001b[0m\u001b[0;34m:\u001b[0m\u001b[0;34m\u001b[0m\u001b[0;34m\u001b[0m\u001b[0m\n\u001b[1;32m   3657\u001b[0m             \u001b[0;31m# If we have a listlike key, _check_indexing_error will raise\u001b[0m\u001b[0;34m\u001b[0m\u001b[0;34m\u001b[0m\u001b[0m\n",
            "\u001b[0;31mKeyError\u001b[0m: 'level'"
          ]
        }
      ]
    }
  ]
}